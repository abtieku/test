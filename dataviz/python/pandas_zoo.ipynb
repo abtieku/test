{
 "cells": [
  {
   "cell_type": "markdown",
   "metadata": {},
   "source": [
    " # Simple Pandas Examples"
   ]
  },
  {
   "cell_type": "code",
   "execution_count": null,
   "metadata": {},
   "outputs": [],
   "source": [
    "import matplotlib.pyplot as plt # For creating the simple plot\n",
    "import pandas as pd\n",
    "%matplotlib inline"
   ]
  },
  {
   "cell_type": "code",
   "execution_count": null,
   "metadata": {},
   "outputs": [],
   "source": [
    "#Read in the CSV file\n",
    "file = \"Resources/zoo.csv\"\n",
    "df = pd.read_csv(file)\n",
    "df"
   ]
  },
  {
   "cell_type": "code",
   "execution_count": null,
   "metadata": {},
   "outputs": [],
   "source": [
    "# Count all the items in the colums. The count \"should\" be the same for\n",
    "# all columns, but notice they are not the same.\n",
    "#This means there is bad data somewhere that we need to clean.\n",
    "df.count()"
   ]
  },
  {
   "cell_type": "code",
   "execution_count": null,
   "metadata": {},
   "outputs": [],
   "source": [
    "# Remove any roes with a NaN (something that is not a number)\n",
    "df = df.dropna()\n",
    "df"
   ]
  },
  {
   "cell_type": "code",
   "execution_count": null,
   "metadata": {},
   "outputs": [],
   "source": [
    "# Look at the averages, do they seem reasonable?\n",
    "# No! the average is really large. There must be a\n",
    "# really large number somewhere.\n",
    "df.describe()"
   ]
  },
  {
   "cell_type": "code",
   "execution_count": null,
   "metadata": {},
   "outputs": [],
   "source": [
    "# The water_need average is still high. Remove any values outside\n",
    "# a reasonable range. Say, 10000. \n",
    "df = df[df['water_need'] < 10000] \n",
    "df"
   ]
  },
  {
   "cell_type": "code",
   "execution_count": null,
   "metadata": {},
   "outputs": [],
   "source": [
    "# Now use describe and see if everything looks OK:\n",
    "df.describe()"
   ]
  },
  {
   "cell_type": "markdown",
   "metadata": {},
   "source": [
    " # Great! Now the data is clean, we can continue..."
   ]
  },
  {
   "cell_type": "code",
   "execution_count": null,
   "metadata": {},
   "outputs": [],
   "source": [
    "# Get a list of all the animals\n",
    "# Note that df['animal'] returns a Pandas Series, which has to be turned into a Python list\n",
    "animals_series = df['animal']\n",
    "animals_list = animals_series.tolist()\n",
    "animals_list"
   ]
  },
  {
   "cell_type": "code",
   "execution_count": null,
   "metadata": {},
   "outputs": [],
   "source": [
    "# Get a list of all the animals\n",
    "# Note that df['animal'] returns a Pandas Series, which has to be turned into a Python list\n",
    "# Note that df['animal'] is the same as df.animal\n",
    "animals_series = df.animal\n",
    "animals_list = animals_series.tolist()\n",
    "animals_list"
   ]
  },
  {
   "cell_type": "code",
   "execution_count": null,
   "metadata": {},
   "outputs": [],
   "source": [
    "# Note that df['animal'] returns a Pandas Series, which has to be turned into a Python list\n",
    "# Note that df['animal'] is the same as df.animal\n",
    "# Note you can shorten this to one line\n",
    "animals_list = df.animal.tolist()\n",
    "animals_list"
   ]
  },
  {
   "cell_type": "code",
   "execution_count": null,
   "metadata": {},
   "outputs": [],
   "source": [
    "# Loop through the list of animals, print them each on a line\n",
    "for animal in animals_list:\n",
    "    print(animal)"
   ]
  },
  {
   "cell_type": "code",
   "execution_count": null,
   "metadata": {},
   "outputs": [],
   "source": [
    "# Use the Pandas unique() function to get a list of unique animals.\n",
    "df.animal.unique().tolist()"
   ]
  },
  {
   "cell_type": "code",
   "execution_count": null,
   "metadata": {},
   "outputs": [],
   "source": [
    "# Get the number of differnt animals. Use len()\n",
    "len(df.animal.unique())"
   ]
  },
  {
   "cell_type": "code",
   "execution_count": null,
   "metadata": {},
   "outputs": [],
   "source": [
    "# Get a count of gender\n",
    "df[['gender','animal']].groupby('gender').count()"
   ]
  },
  {
   "cell_type": "code",
   "execution_count": null,
   "metadata": {},
   "outputs": [],
   "source": [
    "# Lets read in the CSV file and clean it\n",
    "file = \"Resources/zoo.csv\"\n",
    "df = pd.read_csv(file)\n",
    "df = df.dropna()\n",
    "df = df[df['water_need'] < 10000] \n",
    "df"
   ]
  },
  {
   "cell_type": "code",
   "execution_count": null,
   "metadata": {},
   "outputs": [],
   "source": [
    "# Draw a bar chart!\n",
    "df.plot(kind='bar',x='animal',y='water_need',color='blue')\n",
    "#plt.rcParams['font.size'] = 14\n",
    "#plt.rcParams['figure.figsize'] = (10,4)\n",
    "plt.title(\"Animal Water Needs\")\n",
    "plt.ylabel(\"Water Needs\")\n",
    "plt.xlabel(\"Animals\")\n",
    "\n",
    "plt.show()"
   ]
  },
  {
   "cell_type": "code",
   "execution_count": null,
   "metadata": {},
   "outputs": [],
   "source": [
    "# Get the average water need by animal.\n",
    "water_need_mean_by_animal = df[['animal','water_need']].groupby('animal').mean()\n",
    "water_need_mean_by_animal"
   ]
  },
  {
   "cell_type": "code",
   "execution_count": null,
   "metadata": {},
   "outputs": [],
   "source": [
    "# Draw a bar chart again, bit of the averages by animal.\n",
    "# Note that the Pandas plot dicumentation at \n",
    "#   https://pandas.pydata.org/pandas-docs/stable/reference/api/pandas.DataFrame.plot.bar.html\n",
    "#   and\n",
    "#   https://pandas.pydata.org/pandas-docs/stable/reference/api/pandas.DataFrame.plot.html#pandas.DataFrame.plot\n",
    "# tell me that I should be able to specify the xlabel, ylabel, and legend in the parameters\n",
    "# of the bar() function, but it gives an error if I do so.\n",
    "# So, I change these after the bar plot is created.\n",
    "water_need_mean_by_animal.plot.bar(rot=0, \n",
    "                                   figsize=(10, 4), fontsize=12)\n",
    "plt.title(\"Average Animal Water Needs\", fontsize=24)\n",
    "plt.ylabel(\"Water Needs (Average)\", fontsize=14)\n",
    "plt.xlabel(\"Animals\", fontsize=14)\n",
    "# Change the legend (the thing in the upper right corner). Note that\n",
    "# this needs to be a Python list (enclosed in []) ecause you can\n",
    "# potentially have more than one. Yep - that is not intuitive.\n",
    "plt.legend([\"Water need (average)\"], fontsize=8)\n",
    "\n",
    "plt.show()"
   ]
  },
  {
   "cell_type": "code",
   "execution_count": null,
   "metadata": {},
   "outputs": [],
   "source": []
  }
 ],
 "metadata": {
  "kernelspec": {
   "display_name": "Python 3",
   "language": "python",
   "name": "python3"
  },
  "language_info": {
   "codemirror_mode": {
    "name": "ipython",
    "version": 3
   },
   "file_extension": ".py",
   "mimetype": "text/x-python",
   "name": "python",
   "nbconvert_exporter": "python",
   "pygments_lexer": "ipython3",
   "version": "3.8.3"
  }
 },
 "nbformat": 4,
 "nbformat_minor": 4
}

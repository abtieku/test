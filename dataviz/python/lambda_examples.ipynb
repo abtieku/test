{
 "cells": [
  {
   "cell_type": "markdown",
   "metadata": {},
   "source": [
    "# Python Lambda Examples"
   ]
  },
  {
   "cell_type": "code",
   "execution_count": 1,
   "metadata": {},
   "outputs": [],
   "source": [
    "# Lambdas are a shortcut. Creates a function with no name!\n",
    "# A really good tutorial is at:\n",
    "# https://www.programiz.com/python-programming/anonymous-function"
   ]
  },
  {
   "cell_type": "code",
   "execution_count": 9,
   "metadata": {},
   "outputs": [
    {
     "name": "stdout",
     "output_type": "stream",
     "text": [
      "0 degrees celcius is 32.0 degrees farenheit\n",
      "40 degrees celcius is 104.0 degrees farenheit\n"
     ]
    }
   ],
   "source": [
    "# Simplest example:\n",
    "c_to_s = lambda c: c/5*9 + 32\n",
    "temp_c = 0\n",
    "print(f\"{temp_c} degrees celcius is {c_to_s(temp_c)} degrees farenheit\")\n",
    "temp_c = 40\n",
    "print(f\"{temp_c} degrees celcius is {c_to_s(temp_c)} degrees farenheit\")"
   ]
  },
  {
   "cell_type": "code",
   "execution_count": 11,
   "metadata": {},
   "outputs": [
    {
     "name": "stdout",
     "output_type": "stream",
     "text": [
      "0 degrees celcius is 32.0 degrees farenheit\n",
      "40 degrees celcius is 104.0 degrees farenheit\n"
     ]
    }
   ],
   "source": [
    "# This is the same as if we created a function:\n",
    "def c_to_s_function(temp_c):\n",
    "    return temp_c/5*9 + 32\n",
    "temp_c = 0\n",
    "print(f\"{temp_c} degrees celcius is {c_to_s_function(temp_c)} degrees farenheit\")\n",
    "temp_c = 40\n",
    "print(f\"{temp_c} degrees celcius is {c_to_s_function(temp_c)} degrees farenheit\")"
   ]
  },
  {
   "cell_type": "code",
   "execution_count": 14,
   "metadata": {},
   "outputs": [
    {
     "name": "stdout",
     "output_type": "stream",
     "text": [
      "True\n",
      "False\n"
     ]
    }
   ],
   "source": [
    "# You can use conditionals\n",
    "is_even = lambda x: True if x % 2 == 0 else False\n",
    "print(t_or_f(34))\n",
    "print(t_or_f(35))"
   ]
  }
 ],
 "metadata": {
  "kernelspec": {
   "display_name": "Python 3",
   "language": "python",
   "name": "python3"
  },
  "language_info": {
   "codemirror_mode": {
    "name": "ipython",
    "version": 3
   },
   "file_extension": ".py",
   "mimetype": "text/x-python",
   "name": "python",
   "nbconvert_exporter": "python",
   "pygments_lexer": "ipython3",
   "version": "3.8.3"
  }
 },
 "nbformat": 4,
 "nbformat_minor": 4
}

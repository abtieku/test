{
 "cells": [
  {
   "cell_type": "markdown",
   "metadata": {},
   "source": [
    "# Python List Comprehension Examples"
   ]
  },
  {
   "cell_type": "code",
   "execution_count": null,
   "metadata": {},
   "outputs": [],
   "source": [
    "# A good tutorial is available at\n",
    "# https://www.programiz.com/python-programming/list-comprehension\n",
    "# List compremension is a shortcut if you simply want to create a list\n",
    "# and fill it with values. \n",
    "# Try to keep list comprehensions simple. Nesting gets really\n",
    "# complicated very fast."
   ]
  },
  {
   "cell_type": "code",
   "execution_count": null,
   "metadata": {},
   "outputs": [],
   "source": [
    "# Create a simple list using comprehension and the range function.\n",
    "my_list = [x for x in range(0, 4)]\n",
    "my_list"
   ]
  },
  {
   "cell_type": "code",
   "execution_count": null,
   "metadata": {},
   "outputs": [],
   "source": [
    "# Note that you can do the same thing in a for loop:\n",
    "my_list = []\n",
    "for x in range(0, 4):\n",
    "    my_list.append(x)\n",
    "my_list"
   ]
  },
  {
   "cell_type": "code",
   "execution_count": null,
   "metadata": {},
   "outputs": [],
   "source": [
    "# But, you can get more complicated. Instead of just \"x\"\n",
    "# that gets put into the list, you can perform calculations.\n",
    "# \n",
    "my_list = [ x**x for x in range(0, 5)]\n",
    "my_list"
   ]
  },
  {
   "cell_type": "code",
   "execution_count": null,
   "metadata": {},
   "outputs": [],
   "source": [
    "# Convert temperatures in celcius to farenheit\n",
    "# (C/5) * 9 + 32\n",
    "temps_c = [0, 10, 20, 30, 40]\n",
    "temps_c\n",
    "temps_f = [(c/5)*9 + 32 for c in temps_c]\n",
    "temps_f"
   ]
  },
  {
   "cell_type": "code",
   "execution_count": null,
   "metadata": {},
   "outputs": [],
   "source": [
    "# Conditionals\n",
    "# Create a list filled with every other number\n",
    "my_list = [ num for num in range(20) if num % 2 == 0]\n",
    "my_list"
   ]
  },
  {
   "cell_type": "code",
   "execution_count": null,
   "metadata": {},
   "outputs": [],
   "source": [
    "# Conditionals\n",
    "# Create a list that contains the even multiples of 7\n",
    "my_list = [ num for num in range(50) if num % 2 == 0 if num % 7 == 0]\n",
    "my_list"
   ]
  },
  {
   "cell_type": "code",
   "execution_count": null,
   "metadata": {},
   "outputs": [],
   "source": [
    "# You can use if/else\n",
    "obj = [\"Even\" if i%2==0 else \"Odd\" for i in range(10)]\n",
    "obj"
   ]
  },
  {
   "cell_type": "code",
   "execution_count": null,
   "metadata": {},
   "outputs": [],
   "source": [
    "# Conditionals\n",
    "# Create a list where numbers at odd indexes is \"3\"\n",
    "my_list = [ num if num % 2 == 0 else 3 for num in range(10)]\n",
    "my_list"
   ]
  }
 ],
 "metadata": {
  "kernelspec": {
   "display_name": "Python 3",
   "language": "python",
   "name": "python3"
  },
  "language_info": {
   "codemirror_mode": {
    "name": "ipython",
    "version": 3
   },
   "file_extension": ".py",
   "mimetype": "text/x-python",
   "name": "python",
   "nbconvert_exporter": "python",
   "pygments_lexer": "ipython3",
   "version": "3.8.3"
  }
 },
 "nbformat": 4,
 "nbformat_minor": 4
}

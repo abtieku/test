{
 "cells": [
  {
   "cell_type": "markdown",
   "metadata": {},
   "source": [
    "# Here are some Python looping examples"
   ]
  },
  {
   "cell_type": "code",
   "execution_count": null,
   "metadata": {},
   "outputs": [],
   "source": [
    "# Lets create a simple Python list\n",
    "my_list = [\"cow\", \"cat\", \"dog\"]\n",
    "my_list"
   ]
  },
  {
   "cell_type": "code",
   "execution_count": null,
   "metadata": {},
   "outputs": [],
   "source": [
    "# Print out each element in a list using a loop\n",
    "for x in my_list:\n",
    "    print(x)"
   ]
  },
  {
   "cell_type": "code",
   "execution_count": null,
   "metadata": {},
   "outputs": [],
   "source": [
    "# We should use a better variable name than \"x\":\n",
    "for animal in my_list:\n",
    "    print(animal)"
   ]
  },
  {
   "cell_type": "code",
   "execution_count": null,
   "metadata": {},
   "outputs": [],
   "source": [
    "# Use the enumerate() function to be able to access the index\n",
    "# as you are going through the list:\n",
    "for index, animal in enumerate(my_list):\n",
    "    print(index,animal)"
   ]
  },
  {
   "cell_type": "code",
   "execution_count": null,
   "metadata": {},
   "outputs": [],
   "source": [
    "# The same thing can be done using a variable (in case you forget about enumerate):\n",
    "index = 0\n",
    "for animal in my_list:\n",
    "    print(index,animal)\n",
    "    index += 1"
   ]
  },
  {
   "cell_type": "code",
   "execution_count": null,
   "metadata": {},
   "outputs": [],
   "source": [
    "# Create a dictionary\n",
    "my_dict = { \"cow\" : \"moo\", \"cat\" : \"meow\", \"dog\" : \"woof\" }\n",
    "my_dict"
   ]
  },
  {
   "cell_type": "code",
   "execution_count": null,
   "metadata": {},
   "outputs": [],
   "source": [
    "# Loop through the dictionary keys\n",
    "for key in my_dict.keys():\n",
    "    print(key)"
   ]
  },
  {
   "cell_type": "code",
   "execution_count": null,
   "metadata": {},
   "outputs": [],
   "source": [
    "# Loop through the dictionary values\n",
    "for value in my_dict.values():\n",
    "    print(value)"
   ]
  },
  {
   "cell_type": "code",
   "execution_count": null,
   "metadata": {},
   "outputs": [],
   "source": [
    "# Loop through the dictionary values\n",
    "for key,value in my_dict.items():\n",
    "    print(key, value)"
   ]
  },
  {
   "cell_type": "code",
   "execution_count": null,
   "metadata": {},
   "outputs": [],
   "source": [
    "# Loop through a range of numbers.\n",
    "# Use the range() function. The simplest for here starts at 0\n",
    "# and continues to the number specified (not inclusive)\n",
    "for number in range(3):\n",
    "    print(number)"
   ]
  },
  {
   "cell_type": "code",
   "execution_count": null,
   "metadata": {},
   "outputs": [],
   "source": [
    "# Loop through a range of numbers.\n",
    "# Use the range() function, but specify (start, end, step) (end is not inclusive)\n",
    "for number in range(0, 10, 2):\n",
    "    print(number)"
   ]
  },
  {
   "cell_type": "code",
   "execution_count": null,
   "metadata": {},
   "outputs": [],
   "source": [
    "# Loop through a range of numbers, but skip some using a step value.\n",
    "# Use the range() function, but specify (start, end) (end is not inclusive)\n",
    "for number in range(0, 3):\n",
    "    print(number)"
   ]
  },
  {
   "cell_type": "code",
   "execution_count": null,
   "metadata": {},
   "outputs": [],
   "source": [
    "# Strings! You can loop through the letters in a string using\n",
    "# a simple for loop:\n",
    "my_string = \"hello\"\n",
    "for character in my_string:\n",
    "    print(character)"
   ]
  },
  {
   "cell_type": "code",
   "execution_count": null,
   "metadata": {},
   "outputs": [],
   "source": [
    "# You can loop through a string in reverse. Use the range()\n",
    "# function. \n",
    "# This range() does this:\n",
    "#   Start at index (length of string - 1), or 4 (the 'o')\n",
    "#   Continues till you zero (or -1 not inclusive)\n",
    "#   Steps -1 each loop iteration. So it counts downward.\n",
    "#\n",
    "my_string = \"hello\"\n",
    "for index in range(len(my_string) - 1, -1, -1):\n",
    "    print(my_string[index])"
   ]
  },
  {
   "cell_type": "code",
   "execution_count": null,
   "metadata": {},
   "outputs": [],
   "source": [
    "# There ia also a while loop:\n",
    "i = 1\n",
    "while i < 6:\n",
    "    print(i)\n",
    "    i += 1"
   ]
  },
  {
   "cell_type": "code",
   "execution_count": null,
   "metadata": {},
   "outputs": [],
   "source": [
    "# Use a loop to turn a list into a string\n",
    "my_list = ['h', 'e', 'l', 'l', 'o']\n",
    "my_string = \"\"\n",
    "for char in my_list:\n",
    "    my_string += char\n",
    "my_string"
   ]
  },
  {
   "cell_type": "code",
   "execution_count": null,
   "metadata": {},
   "outputs": [],
   "source": [
    "# But! There is a nice function to turn a list into a string:\n",
    "my_list = ['h', 'e', 'l', 'l', 'o']\n",
    "my_string = \"\".join(my_list)\n",
    "my_string"
   ]
  },
  {
   "cell_type": "code",
   "execution_count": null,
   "metadata": {},
   "outputs": [],
   "source": []
  }
 ],
 "metadata": {
  "kernelspec": {
   "display_name": "Python 3",
   "language": "python",
   "name": "python3"
  },
  "language_info": {
   "codemirror_mode": {
    "name": "ipython",
    "version": 3
   },
   "file_extension": ".py",
   "mimetype": "text/x-python",
   "name": "python",
   "nbconvert_exporter": "python",
   "pygments_lexer": "ipython3",
   "version": "3.8.3"
  }
 },
 "nbformat": 4,
 "nbformat_minor": 4
}

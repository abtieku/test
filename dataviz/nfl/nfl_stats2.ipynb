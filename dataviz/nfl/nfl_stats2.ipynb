{
 "cells": [
  {
   "cell_type": "code",
   "execution_count": null,
   "metadata": {},
   "outputs": [],
   "source": [
    "# Example:\n",
    "# 1. Read a CSV file into a Pandas DataFrame.\n",
    "# 2. Don't repeat yourself - create functions!\n",
    "# 3. Create a function to clean the data.\n",
    "# 4. Create a function to draw a scatter plot with a trend line\n",
    "# 5. Create a function to draw a Box-n-Whiskers plot\n",
    "# 6. Call the functions you created to draw the plots."
   ]
  },
  {
   "cell_type": "code",
   "execution_count": null,
   "metadata": {},
   "outputs": [],
   "source": [
    "import matplotlib.pyplot as plt\n",
    "import pandas as pd\n",
    "import numpy as np\n",
    "from numpy.polynomial.polynomial import polyfit\n",
    "%matplotlib inline"
   ]
  },
  {
   "cell_type": "code",
   "execution_count": null,
   "metadata": {},
   "outputs": [],
   "source": [
    "#Read in the CSV file\n",
    "file = \"Resources/pass_att.csv\"\n",
    "df_original = pd.read_csv(file)\n",
    "df_original.head()"
   ]
  },
  {
   "cell_type": "code",
   "execution_count": null,
   "metadata": {},
   "outputs": [],
   "source": [
    "# Function to clean the data\n",
    "def clean(orig_df):\n",
    "    df2 = df_original[df_original[\"yards_per_pass_attempt\"] > -100]\n",
    "    df3 = df2[df2[\"passes_had_intercepts\"] >= 0]\n",
    "    df4 = df3[df3[\"qb_sacks\"] >= 0]\n",
    "    return df4"
   ]
  },
  {
   "cell_type": "code",
   "execution_count": null,
   "metadata": {},
   "outputs": [],
   "source": [
    "# Draw a scatter plot\n",
    "def draw_scatter_plot(df, x_var_name, y_var_name, title, display_grid=False):\n",
    "    df.plot(kind='scatter',x=x_var_name, y=y_var_name,color='blue',s=1.2, label=\"NFL 1993 to 2020\")\n",
    "    #plt.rcParams['font.size'] = 14\n",
    "    #plt.rcParams['figure.figsize'] = (10,4)\n",
    "    \n",
    "    # Set the plot texts as described in Module 5.1.4\n",
    "    plt.title(clean_label(title))\n",
    "    plt.xlabel(clean_label(x_var_name))\n",
    "    plt.ylabel(clean_label(y_var_name))\n",
    "\n",
    "    #Make the regression line\n",
    "    b, m = polyfit(df[x_var_name], df[y_var_name], 1)\n",
    "    plt.plot(df[x_var_name], b + m * df[x_var_name], '-', color='red')\n",
    "\n",
    "    plt.legend()\n",
    "    \n",
    "    #plt.yticks(np.arange(0, 60, 10))\n",
    "    \n",
    "    if display_grid == True:\n",
    "        plt.grid()\n",
    "        \n",
    "    plt.show()"
   ]
  },
  {
   "cell_type": "code",
   "execution_count": null,
   "metadata": {},
   "outputs": [],
   "source": [
    "# Draw a box plot\n",
    "def draw_box_plot(df, x_var_name, y_var_name, title, display_grid=False):\n",
    "    x_labels = [\"NFL 1993 to 2020\"]\n",
    "    fig, ax = plt.subplots()\n",
    "    ax.boxplot(df[x_var_name], labels=x_labels)\n",
    "    #plt.rcParams['font.size'] = 14\n",
    "    #plt.rcParams['figure.figsize'] = (6,3)\n",
    "    \n",
    "    # Set the plot texts as described in Module 5.1.4\n",
    "    plt.title(clean_label(title))\n",
    "    plt.ylabel(clean_label(x_var_name))\n",
    "    \n",
    "    if display_grid == True:\n",
    "        plt.grid()\n",
    "        \n",
    "    plt.show()"
   ]
  },
  {
   "cell_type": "code",
   "execution_count": null,
   "metadata": {},
   "outputs": [],
   "source": [
    "# Clean the data\n",
    "df = clean(df_original)\n",
    "df.describe()"
   ]
  },
  {
   "cell_type": "code",
   "execution_count": null,
   "metadata": {},
   "outputs": [],
   "source": [
    "# Convert a label into nice text. Remove underscores and \n",
    "# capitalize the first letter of each word.\n",
    "# Hinte: The title() function already exists to capitalize.\n",
    "def clean_label(label):\n",
    "    return label.replace(\"_\", \" \").title()"
   ]
  },
  {
   "cell_type": "code",
   "execution_count": null,
   "metadata": {},
   "outputs": [],
   "source": [
    "# Specify the size of the plots\n",
    "plt.rcParams['font.size'] = 14\n",
    "plt.rcParams['figure.figsize'] = (6,3)"
   ]
  },
  {
   "cell_type": "code",
   "execution_count": null,
   "metadata": {},
   "outputs": [],
   "source": [
    "# Draw the Yards per pass attempt plot. With a GRID!\n",
    "df2 = df[df[\"winning_margin\"] >= 0]\n",
    "#df2 = df\n",
    "draw_scatter_plot(df2, 'yards_per_pass_attempt', 'winning_margin', \"yards_per_pass_attempt difference\", True)"
   ]
  },
  {
   "cell_type": "code",
   "execution_count": null,
   "metadata": {},
   "outputs": [],
   "source": [
    "# Draw a box plot of the Yards per pass attempt.\n",
    "draw_box_plot(df2, 'yards_per_pass_attempt', 'winning_margin', \"yards_per_pass_attempt difference\", True)"
   ]
  },
  {
   "cell_type": "code",
   "execution_count": null,
   "metadata": {},
   "outputs": [],
   "source": [
    "# Draw the Total Rushing plot\n",
    "draw_scatter_plot(df, 'total_rushing', 'winning_margin', \"Number of Rushing Attempts\")"
   ]
  },
  {
   "cell_type": "code",
   "execution_count": null,
   "metadata": {},
   "outputs": [],
   "source": [
    "# Draw the QB Sacks plot\n",
    "draw_scatter_plot(df, 'qb_sacks', 'winning_margin', \"Quarterback Sacks\")"
   ]
  },
  {
   "cell_type": "code",
   "execution_count": null,
   "metadata": {},
   "outputs": [],
   "source": [
    "# Draw the Passes Had Intercepts plot\n",
    "draw_scatter_plot(df, 'passes_had_intercepts', 'winning_margin', \"Passes Had Intercepts\")"
   ]
  },
  {
   "cell_type": "code",
   "execution_count": null,
   "metadata": {},
   "outputs": [],
   "source": []
  },
  {
   "cell_type": "code",
   "execution_count": null,
   "metadata": {},
   "outputs": [],
   "source": []
  }
 ],
 "metadata": {
  "kernelspec": {
   "display_name": "PythonData",
   "language": "python",
   "name": "pythondata"
  },
  "language_info": {
   "codemirror_mode": {
    "name": "ipython",
    "version": 3
   },
   "file_extension": ".py",
   "mimetype": "text/x-python",
   "name": "python",
   "nbconvert_exporter": "python",
   "pygments_lexer": "ipython3",
   "version": "3.7.7"
  }
 },
 "nbformat": 4,
 "nbformat_minor": 4
}

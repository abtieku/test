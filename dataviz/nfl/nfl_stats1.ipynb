{
 "cells": [
  {
   "cell_type": "code",
   "execution_count": null,
   "metadata": {},
   "outputs": [],
   "source": [
    "# Show reading in a CSV file to a Dataframe, cleaning the data, create a plot.\n",
    "# The data is 27 years of NFL stats."
   ]
  },
  {
   "cell_type": "code",
   "execution_count": null,
   "metadata": {},
   "outputs": [],
   "source": [
    "import matplotlib.pyplot as plt\n",
    "import pandas as pd\n",
    "import numpy as np\n",
    "from numpy.polynomial.polynomial import polyfit\n",
    "%matplotlib inline"
   ]
  },
  {
   "cell_type": "code",
   "execution_count": null,
   "metadata": {},
   "outputs": [],
   "source": [
    "#Read in the CSV file\n",
    "file = \"Resources/pass_att.csv\"\n",
    "df_original = pd.read_csv(file)\n",
    "df_original.head()"
   ]
  },
  {
   "cell_type": "code",
   "execution_count": null,
   "metadata": {},
   "outputs": [],
   "source": [
    "df_original.describe()"
   ]
  },
  {
   "cell_type": "code",
   "execution_count": null,
   "metadata": {},
   "outputs": [],
   "source": [
    "# HEY! The mean for yds_per_pass_att_diff should not be that large!\n",
    "# There are data errors - look at the CSV\n",
    "df2 = df_original[df_original[\"yards_per_pass_attempt\"] > -100]\n",
    "df2.describe()"
   ]
  },
  {
   "cell_type": "code",
   "execution_count": null,
   "metadata": {},
   "outputs": [],
   "source": [
    "#HEY! passes_had_intercepts\tand qb_sacks cannot be negative! Cut those out\n",
    "df3 = df2[df2[\"passes_had_intercepts\"] >= 0]\n",
    "df4 = df3[df3[\"qb_sacks\"] >= 0]\n",
    "df4.describe()"
   ]
  },
  {
   "cell_type": "code",
   "execution_count": null,
   "metadata": {},
   "outputs": [],
   "source": [
    "#Data should be clean enough!\n",
    "#Plot yards_per_pass_attempt as a scatter plot\n",
    "df4.plot(kind='scatter',x='yards_per_pass_attempt',y='winning_margin',color='blue',s=1.2)\n",
    "plt.rcParams['font.size'] = 14\n",
    "plt.rcParams['figure.figsize'] = (10,4)\n",
    "plt.title(\"Yards Per Pass Attempt Difference\")\n",
    "\n",
    "#Make the regression line\n",
    "b, m = polyfit(df4.yards_per_pass_attempt, df4.winning_margin, 1)\n",
    "plt.plot(df4.yards_per_pass_attempt, b + m * df4.yards_per_pass_attempt, '-', color='red')\n",
    "\n",
    "plt.show()"
   ]
  },
  {
   "cell_type": "code",
   "execution_count": null,
   "metadata": {},
   "outputs": [],
   "source": [
    "#Plot total_rushing as a scatter plot\n",
    "df4.plot(kind='scatter',x='total_rushing',y='winning_margin',color='blue',s=1.2)\n",
    "plt.rcParams['font.size'] = 14\n",
    "plt.rcParams['figure.figsize'] = (10,4)\n",
    "plt.title(\"Total Rushing Plays\")\n",
    "\n",
    "#Make the regression line\n",
    "b, m = polyfit(df4.total_rushing, df4.winning_margin, 1)\n",
    "plt.plot(df4.total_rushing, b + m * df4.total_rushing, '-', color='red')\n",
    "\n",
    "plt.show()"
   ]
  },
  {
   "cell_type": "code",
   "execution_count": null,
   "metadata": {},
   "outputs": [],
   "source": [
    "#Plot qb_sacks as a scatter plot\n",
    "df4.plot(kind='scatter',x='qb_sacks',y='winning_margin',color='blue',s=1.2)\n",
    "plt.rcParams['font.size'] = 14\n",
    "plt.rcParams['figure.figsize'] = (10,4)\n",
    "plt.title(\"QB Sacks\")\n",
    "\n",
    "#Make the regression line\n",
    "b, m = polyfit(df4.qb_sacks, df4.winning_margin, 1)\n",
    "plt.plot(df4.qb_sacks, b + m * df4.qb_sacks, '-', color='red')\n",
    "\n",
    "plt.show()"
   ]
  },
  {
   "cell_type": "code",
   "execution_count": null,
   "metadata": {},
   "outputs": [],
   "source": [
    "#Plot passes_had_intercepts as a scatter plot\n",
    "df4.plot(kind='scatter',x='passes_had_intercepts',y='winning_margin',color='blue',s=1.2)\n",
    "plt.rcParams['font.size'] = 14\n",
    "plt.rcParams['figure.figsize'] = (10,4)\n",
    "plt.title(\"Passes had intercepts\")\n",
    "\n",
    "#Make the regression line\n",
    "b, m = polyfit(df4.passes_had_intercepts, df4.winning_margin, 1)\n",
    "plt.plot(df4.passes_had_intercepts, b + m * df4.passes_had_intercepts, '-', color='red')\n",
    "\n",
    "plt.show()"
   ]
  },
  {
   "cell_type": "code",
   "execution_count": null,
   "metadata": {},
   "outputs": [],
   "source": []
  }
 ],
 "metadata": {
  "kernelspec": {
   "display_name": "PythonData",
   "language": "python",
   "name": "pythondata"
  },
  "language_info": {
   "codemirror_mode": {
    "name": "ipython",
    "version": 3
   },
   "file_extension": ".py",
   "mimetype": "text/x-python",
   "name": "python",
   "nbconvert_exporter": "python",
   "pygments_lexer": "ipython3",
   "version": "3.7.7"
  }
 },
 "nbformat": 4,
 "nbformat_minor": 4
}

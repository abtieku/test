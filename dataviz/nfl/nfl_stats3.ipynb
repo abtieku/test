{
 "cells": [
  {
   "cell_type": "code",
   "execution_count": null,
   "metadata": {},
   "outputs": [],
   "source": [
    "# Create a plot for one team, one year, 2 variables\n",
    "# Steps:\n",
    "#  1. Import and clean the data\n",
    "#  2. Create a function extract a DataFrame based on the team, year\n",
    "#  3. Create a line plot with 2 valiables from the extracted data\n",
    "# NOTE: Team 13 is the St. Louis Rams, they won the Superbowl in \n",
    "#       the 1999 season."
   ]
  },
  {
   "cell_type": "code",
   "execution_count": null,
   "metadata": {},
   "outputs": [],
   "source": [
    "import matplotlib.pyplot as plt\n",
    "import pandas as pd\n",
    "import numpy as np\n",
    "from numpy.polynomial.polynomial import polyfit\n",
    "%matplotlib inline"
   ]
  },
  {
   "cell_type": "code",
   "execution_count": null,
   "metadata": {},
   "outputs": [],
   "source": [
    "# Function to clean the data\n",
    "def clean(orig_df):\n",
    "    df2 = orig_df[orig_df[\"yards_per_pass_attempt\"] > -100]\n",
    "    df3 = df2[df2[\"passes_had_intercepts\"] >= 0]\n",
    "    df4 = df3[df3[\"qb_sacks\"] >= 0]\n",
    "    return df4"
   ]
  },
  {
   "cell_type": "code",
   "execution_count": null,
   "metadata": {},
   "outputs": [],
   "source": [
    "#Read in the CSV file\n",
    "file = \"Resources/pass_att.csv\"\n",
    "df = clean(pd.read_csv(file))\n",
    "df.head()"
   ]
  },
  {
   "cell_type": "code",
   "execution_count": null,
   "metadata": {},
   "outputs": [],
   "source": [
    "# Get a stat for a var/team/week/year\n",
    "def get_stat(df, var_name, team_num, week, year):\n",
    "    val = df[(df['team'] == team_num) & (df['week'] == week) & (df['year'] == year)][var_name]\n",
    "    #returns a series (a list) and the first element is the index number. So val[1] is what we want\n",
    "    return val[1]\n",
    "    "
   ]
  },
  {
   "cell_type": "code",
   "execution_count": null,
   "metadata": {},
   "outputs": [],
   "source": [
    "# Get a stat for a var/team/year. Reurns a DataFrame.\n",
    "def get_stat_for_year(df, var_name, team_num, year):\n",
    "    val = df[(df['team'] == team_num) & (df['year'] == year)]\n",
    "    return val"
   ]
  },
  {
   "cell_type": "code",
   "execution_count": null,
   "metadata": {},
   "outputs": [],
   "source": [
    "val = get_stat(df, 'winning_margin', 1, 1, 1993)\n",
    "print(val)"
   ]
  },
  {
   "cell_type": "code",
   "execution_count": null,
   "metadata": {},
   "outputs": [],
   "source": [
    "# Get the stats for a team and a year, into a DataFrame\n",
    "df2 = get_stat_for_year(df, 'yards_per_pass_attempt', 13, 1999)\n",
    "df2.head(20)"
   ]
  },
  {
   "cell_type": "code",
   "execution_count": null,
   "metadata": {},
   "outputs": [],
   "source": [
    "df2 = df2.sort_values(by=['week'])\n",
    "df2.head(20)"
   ]
  },
  {
   "cell_type": "code",
   "execution_count": null,
   "metadata": {
    "scrolled": true
   },
   "outputs": [],
   "source": [
    "\n",
    "plt.plot( 'week', 'yards_per_pass_attempt', data=df2, marker='', markerfacecolor='blue', markersize=12, color='blue', linewidth=2)\n",
    "plt.plot( 'week', 'winning_margin', data=df2, marker='', color='olive', linewidth=2)\n",
    "\n",
    "# Set the plot texts as described in Module 5.1.4\n",
    "plt.title(\"Yards/Pass Attempt vs Winning Margin\")\n",
    "plt.xlabel(\"Week\")\n",
    "plt.legend()\n",
    "\n",
    "plt.xticks(np.arange(1, len(df2['week']) + 1, 2))\n",
    "\n",
    "plt.grid()\n",
    "\n",
    "plt.show()"
   ]
  },
  {
   "cell_type": "code",
   "execution_count": null,
   "metadata": {},
   "outputs": [],
   "source": []
  }
 ],
 "metadata": {
  "kernelspec": {
   "display_name": "PythonData",
   "language": "python",
   "name": "pythondata"
  },
  "language_info": {
   "codemirror_mode": {
    "name": "ipython",
    "version": 3
   },
   "file_extension": ".py",
   "mimetype": "text/x-python",
   "name": "python",
   "nbconvert_exporter": "python",
   "pygments_lexer": "ipython3",
   "version": "3.7.7"
  }
 },
 "nbformat": 4,
 "nbformat_minor": 4
}
